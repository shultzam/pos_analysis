{
 "cells": [
  {
   "cell_type": "code",
   "execution_count": 1,
   "metadata": {},
   "outputs": [],
   "source": [
    "# Imports related to data processing.\n",
    "import json\n",
    "import gzip\n",
    "from os import path\n",
    "# TODO: add instructions for installing nltk: \n",
    "# - pip3 install -r requirements.txt (used pip3v20)\n",
    "# - sudo python -m nltk.downloader -d /usr/local/share/nltk_data all\n",
    "# TEMP | see: https://www.nltk.org/install.html and https://www.nltk.org/data.html\n",
    "# TEMP | API: https://www.nltk.org/api/nltk.corpus.html\n",
    "from nltk.corpus import brown"
   ]
  },
  {
   "cell_type": "code",
   "execution_count": 19,
   "metadata": {},
   "outputs": [
    {
     "name": "stdout",
     "output_type": "stream",
     "text": [
      "Processed UCI sentiment-labelled Amazon data, count: 1000.\n"
     ]
    }
   ],
   "source": [
    "# Define some constant strings pointing to the UCI Amazon review data.\n",
    "DATA_DIR = '../data'\n",
    "UCI_DATA_DILE = 'uci_labelled_data/amazon_cells_labelled.txt'\n",
    "\n",
    "# Read in sentiment laballed sentences UCI's Amazon data file.\n",
    "uci_sentiment_data = []\n",
    "with open(path.join(DATA_DIR, UCI_DATA_DILE), encoding='utf-8') as fileObj:\n",
    "    uci_sentiment_data = [line.rstrip('\\n') for line in fileObj]\n",
    "    \n",
    "# Split each line into a tuple containing the text in the 0th index and the sentiment label in the 1st index.\n",
    "for index in range(0, len(uci_sentiment_data)):\n",
    "    split_sentence = uci_sentiment_data[index].split('\\t')\n",
    "    uci_sentiment_data[index] = (split_sentence[0], split_sentence[1])\n",
    "    \n",
    "print('Read-in UCI sentiment-labelled Amazon data, count: {}.'.format(len(uci_sentiment_data)))"
   ]
  },
  {
   "cell_type": "code",
   "execution_count": 20,
   "metadata": {},
   "outputs": [
    {
     "name": "stdout",
     "output_type": "stream",
     "text": [
      "Processed UCSD Amazon data. Beauty count: 5269, Fashion count: 3176, Appliances count: 2277.\n"
     ]
    }
   ],
   "source": [
    "# Define some constant strings pointing to the UCSD Amazon review data.\n",
    "UCSD_DATA_DIR = path.join('../data', 'ucsd_amazon_data')\n",
    "UCSD_DATA_BEAUTY = 'All_Beauty_5.json.gz'\n",
    "UCSD_DATA_FASHION = 'AMAZON_FASHION_5.json.gz'\n",
    "UCSD_DATA_APPLIANCES = 'Appliances_5.json.gz'\n",
    "\n",
    "# Read in JSON data from UCSD's Amazon data files -- Beauty data.\n",
    "ucsd_beauty_data = []\n",
    "with gzip.open(path.join(UCSD_DATA_DIR, UCSD_DATA_BEAUTY)) as json_gzip:\n",
    "    for line in json_gzip:\n",
    "        ucsd_beauty_data.append(json.loads(line))\n",
    "\n",
    "# -- Beauty data.\n",
    "ucsd_fashion_data = []\n",
    "with gzip.open(path.join(UCSD_DATA_DIR, UCSD_DATA_FASHION)) as json_gzip:\n",
    "    for line in json_gzip:\n",
    "        ucsd_fashion_data.append(json.loads(line))\n",
    "\n",
    "# -- Appliance data.\n",
    "ucsd_appliances_data = []\n",
    "with gzip.open(path.join(UCSD_DATA_DIR, UCSD_DATA_APPLIANCES)) as json_gzip:\n",
    "    for line in json_gzip:\n",
    "        ucsd_appliances_data.append(json.loads(line))\n",
    "        \n",
    "print('Read-in UCSD Amazon data. Beauty count: {}, Fashion count: {}, Appliances count: {}.'.format(len(ucsd_beauty_data), len(ucsd_fashion_data), len(ucsd_appliances_data)))"
   ]
  },
  {
   "cell_type": "code",
   "execution_count": null,
   "metadata": {},
   "outputs": [],
   "source": [
    "# TEMP Brown Experiments.\n",
    "#print(\", \".join(brown.words()))"
   ]
  },
  {
   "cell_type": "code",
   "execution_count": null,
   "metadata": {},
   "outputs": [],
   "source": []
  }
 ],
 "metadata": {
  "kernelspec": {
   "display_name": "Python 3",
   "language": "python",
   "name": "python3"
  },
  "language_info": {
   "codemirror_mode": {
    "name": "ipython",
    "version": 3
   },
   "file_extension": ".py",
   "mimetype": "text/x-python",
   "name": "python",
   "nbconvert_exporter": "python",
   "pygments_lexer": "ipython3",
   "version": "3.7.5"
  }
 },
 "nbformat": 4,
 "nbformat_minor": 4
}
